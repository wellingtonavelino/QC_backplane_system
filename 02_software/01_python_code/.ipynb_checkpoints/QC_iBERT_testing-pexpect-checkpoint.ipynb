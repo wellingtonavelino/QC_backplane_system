{
 "cells": [
  {
   "cell_type": "code",
   "execution_count": null,
   "id": "0098b585",
   "metadata": {},
   "outputs": [],
   "source": []
  },
  {
   "cell_type": "code",
   "execution_count": null,
   "id": "b45b6160",
   "metadata": {},
   "outputs": [],
   "source": [
    "import pexpect\n",
    "import sys\n",
    "import re\n",
    "\n",
    "import subprocess"
   ]
  },
  {
   "cell_type": "code",
   "execution_count": null,
   "id": "6895e006",
   "metadata": {},
   "outputs": [],
   "source": [
    "tcl_script = \"run_ibert_qc_multi.tcl\"\n",
    "vivado_cmd = [\"vivado\", \"-mode\", \"batch\", \"-source\", tcl_script, \"-nojournal\", \"-nolog\"]"
   ]
  },
  {
   "cell_type": "code",
   "execution_count": null,
   "id": "1e5b0d13",
   "metadata": {},
   "outputs": [],
   "source": [
    "# Iniciar o processo\n",
    "process = subprocess.Popen(\n",
    "    vivado_cmd,\n",
    "    stdout=subprocess.PIPE,\n",
    "    stderr=subprocess.STDOUT,\n",
    "    text=True,\n",
    "    bufsize=1\n",
    ")"
   ]
  },
  {
   "cell_type": "code",
   "execution_count": null,
   "id": "a8d11896",
   "metadata": {},
   "outputs": [],
   "source": [
    "# Análise da saída em tempo real\n",
    "current_phase = None\n",
    "results = []\n",
    "\n",
    "for line in process.stdout:\n",
    "    print(line.strip())  # Mostra no Jupyter\n",
    "\n",
    "    if \"Serial,from Board,to Board,BER, ERRORS\" in line:\n",
    "        current_phase = \"0) log aberto\"\n",
    "        print(f\"\\n📌 Entrou na Fase {current_phase}\")\n",
    "\n",
    "    elif \"DEBUG: vivado.exe =\" in line:\n",
    "        current_phase = \"1) hw_server detectado\"\n",
    "        print(f\"\\n📌 Entrou na Fase {current_phase}\")\n",
    "\n",
    "    elif \"OK: hw_server launched\" in line:\n",
    "        current_phase = \"2) hw_server lançado\"\n",
    "        print(f\"\\n📌 Entrou na Fase {current_phase}\")\n",
    "\n",
    "    elif \"OK: target =\" in line:\n",
    "        current_phase = \"3) targets encontrados\"\n",
    "        print(f\"\\n📌 Entrou na Fase {current_phase}\")\n",
    "\n",
    "    elif \"Scheduled test:\" in line:\n",
    "        current_phase = \"4) testes agendados\"\n",
    "        print(f\"\\n📌 Entrou na Fase {current_phase}\")\n",
    "\n",
    "    elif \"RESULT:\" in line:\n",
    "        current_phase = \"5) testes BER\"\n",
    "        print(f\"\\n📌 Entrou na Fase {current_phase}\")\n",
    "        results.append(line.strip())\n",
    "\n",
    "    elif \"All BER tests complete\" in line:\n",
    "        current_phase = \"6) finalização\"\n",
    "        print(f\"\\n📌 Entrou na Fase {current_phase}\")\n",
    "\n",
    "# Finaliza e aguarda saída\n",
    "process.wait()\n",
    "print(\"\\n✅ Execução concluída.\")"
   ]
  },
  {
   "cell_type": "code",
   "execution_count": null,
   "id": "14615d3f",
   "metadata": {},
   "outputs": [],
   "source": [
    "# Execução por etapas\n",
    "wait_for_phase(\"0) Log aberto\", r\"Serial,from Board,to Board,BER, ERRORS\")\n",
    "wait_for_phase(\"1) hw_server detectado\", r\"DEBUG: vivado.exe =\")\n",
    "wait_for_phase(\"2) hw_server lançado\", r\"OK: hw_server launched\")\n",
    "wait_for_phase(\"3) Targets encontrados\", r\"OK: target =\")\n",
    "wait_for_phase(\"4) Testes agendados\", r\"Scheduled test:\")\n",
    "wait_for_phase(\"5) Testes BER\", r\"RESULT: .*BER=.*\")\n",
    "wait_for_phase(\"6) Conclusão\", r\"All BER tests complete\")\n",
    "\n",
    "# Aguarda o encerramento\n",
    "child.expect(pexpect.EOF)\n",
    "print(\"\\n✅ Script Tcl finalizado.\")"
   ]
  },
  {
   "cell_type": "code",
   "execution_count": null,
   "id": "8fd6409c",
   "metadata": {},
   "outputs": [],
   "source": []
  }
 ],
 "metadata": {
  "kernelspec": {
   "display_name": "Python 3 (ipykernel)",
   "language": "python",
   "name": "python3"
  },
  "language_info": {
   "codemirror_mode": {
    "name": "ipython",
    "version": 3
   },
   "file_extension": ".py",
   "mimetype": "text/x-python",
   "name": "python",
   "nbconvert_exporter": "python",
   "pygments_lexer": "ipython3",
   "version": "3.11.1"
  }
 },
 "nbformat": 4,
 "nbformat_minor": 5
}
