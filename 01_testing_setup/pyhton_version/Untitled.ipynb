{
 "cells": [
  {
   "cell_type": "code",
   "execution_count": 1,
   "id": "9f09f46a",
   "metadata": {},
   "outputs": [],
   "source": [
    "import pexpect\n",
    "import time\n",
    "import sys\n",
    "import subprocess"
   ]
  },
  {
   "cell_type": "code",
   "execution_count": 2,
   "id": "db9da72f",
   "metadata": {},
   "outputs": [
    {
     "name": "stdout",
     "output_type": "stream",
     "text": [
      "C:\\Users\\welli\\AppData\\Local\\Programs\\Python\\Python311\\Lib\\site-packages\\pexpect\\__init__.py\n"
     ]
    }
   ],
   "source": [
    "print(pexpect.__file__)"
   ]
  },
  {
   "cell_type": "code",
   "execution_count": 3,
   "id": "87f17d32",
   "metadata": {},
   "outputs": [],
   "source": [
    "def run_tcl_script(script_path):\n",
    "    print(f\"⚙️ Running: {script_path}\")\n",
    "    try:\n",
    "        result = subprocess.run(\n",
    "            ['vivado', '-mode', 'batch', '-source', script_path],\n",
    "            text=True,\n",
    "            stdout=subprocess.PIPE,\n",
    "            stderr=subprocess.STDOUT,\n",
    "            timeout=600\n",
    "        )\n",
    "        print(result.stdout)\n",
    "        if \"All done.\" in result.stdout:\n",
    "            print(f\"✅ Script completed: {script_path}\")\n",
    "            return True\n",
    "        else:\n",
    "            print(f\"⚠️ Script ran, but did not complete normally: {script_path}\")\n",
    "            return False\n",
    "    except subprocess.TimeoutExpired:\n",
    "        print(f\"⛔ Timeout while running {script_path}\")\n",
    "        return False\n",
    "    except Exception as e:\n",
    "        print(f\"❌ Failed to run {script_path}: {e}\")\n",
    "        return False"
   ]
  },
  {
   "cell_type": "code",
   "execution_count": 4,
   "id": "c8863835",
   "metadata": {},
   "outputs": [
    {
     "name": "stdout",
     "output_type": "stream",
     "text": [
      "⚙️ Running: program_ibert_qc_multi.tcl\n",
      "❌ Failed to run program_ibert_qc_multi.tcl: [WinError 2] O sistema não pode encontrar o arquivo especificado\n"
     ]
    }
   ],
   "source": [
    "# Run both phases\n",
    "success = run_tcl_script(\"program_ibert_qc_multi.tcl\")\n",
    "if success:\n",
    "    import time\n",
    "    print(\"🕒 Waiting 10 seconds...\")\n",
    "    time.sleep(10)\n",
    "    run_tcl_script(\"run_ber_ibert_qc_multi.tcl\")"
   ]
  },
  {
   "cell_type": "code",
   "execution_count": null,
   "id": "cf63d5dc",
   "metadata": {},
   "outputs": [],
   "source": []
  }
 ],
 "metadata": {
  "kernelspec": {
   "display_name": "Python 3 (ipykernel)",
   "language": "python",
   "name": "python3"
  },
  "language_info": {
   "codemirror_mode": {
    "name": "ipython",
    "version": 3
   },
   "file_extension": ".py",
   "mimetype": "text/x-python",
   "name": "python",
   "nbconvert_exporter": "python",
   "pygments_lexer": "ipython3",
   "version": "3.11.1"
  }
 },
 "nbformat": 4,
 "nbformat_minor": 5
}
