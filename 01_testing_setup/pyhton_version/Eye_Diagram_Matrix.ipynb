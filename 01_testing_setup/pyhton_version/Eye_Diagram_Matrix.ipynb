{
 "cells": [
  {
   "cell_type": "code",
   "execution_count": 1,
   "id": "da595630",
   "metadata": {},
   "outputs": [],
   "source": [
    "import os\n",
    "import pandas as pd\n",
    "import matplotlib.pyplot as plt\n",
    "import numpy as np\n",
    "import re\n",
    "import glob\n",
    "from matplotlib.colors import Normalize"
   ]
  },
  {
   "cell_type": "code",
   "execution_count": 2,
   "id": "7a299881",
   "metadata": {},
   "outputs": [],
   "source": [
    "# Pasta onde estão os arquivos CSV\n",
    "folder = \"/mnt/data\"\n",
    "csv_files = glob.glob(os.path.join(folder, \"scan_*_from_*_to_*.csv\"))"
   ]
  },
  {
   "cell_type": "code",
   "execution_count": 3,
   "id": "2bdf23c8",
   "metadata": {},
   "outputs": [],
   "source": [
    "# Inicializa dicionário para armazenar os dados\n",
    "data_dict = {}\n",
    "\n",
    "# Extrai os dados e organiza por (from_slot, to_slot)\n",
    "for file in csv_files:\n",
    "    # Extrai slots do nome do arquivo\n",
    "    match = re.search(r\"scan_.*?_from_(.*?)_to_(.*?)_\", os.path.basename(file))\n",
    "    if match:\n",
    "        from_slot = match.group(1)\n",
    "        to_slot = match.group(2)\n",
    "    else:\n",
    "        continue  # ignora se não casar\n",
    "\n",
    "    # Lê o conteúdo, pulando cabeçalho até encontrar \"2d statistical\"\n",
    "    with open(file, 'r') as f:\n",
    "        lines = f.readlines()\n",
    "    start = next(i for i, line in enumerate(lines) if line.startswith(\"2d statistical\"))\n",
    "    df = pd.read_csv(file, skiprows=start + 1, index_col=0)\n",
    "    df.columns = df.columns.astype(float)\n",
    "    df.index = df.index.astype(float)\n",
    "    data_dict[(from_slot, to_slot)] = df"
   ]
  },
  {
   "cell_type": "code",
   "execution_count": null,
   "id": "cf165be0",
   "metadata": {},
   "outputs": [],
   "source": []
  },
  {
   "cell_type": "code",
   "execution_count": null,
   "id": "a8e20ea2",
   "metadata": {},
   "outputs": [],
   "source": []
  },
  {
   "cell_type": "code",
   "execution_count": null,
   "id": "0d1542fb",
   "metadata": {},
   "outputs": [],
   "source": []
  },
  {
   "cell_type": "code",
   "execution_count": null,
   "id": "66e8fcaf",
   "metadata": {},
   "outputs": [],
   "source": []
  },
  {
   "cell_type": "code",
   "execution_count": null,
   "id": "591cb949",
   "metadata": {},
   "outputs": [],
   "source": []
  }
 ],
 "metadata": {
  "kernelspec": {
   "display_name": "Python 3 (ipykernel)",
   "language": "python",
   "name": "python3"
  },
  "language_info": {
   "codemirror_mode": {
    "name": "ipython",
    "version": 3
   },
   "file_extension": ".py",
   "mimetype": "text/x-python",
   "name": "python",
   "nbconvert_exporter": "python",
   "pygments_lexer": "ipython3",
   "version": "3.11.1"
  }
 },
 "nbformat": 4,
 "nbformat_minor": 5
}
