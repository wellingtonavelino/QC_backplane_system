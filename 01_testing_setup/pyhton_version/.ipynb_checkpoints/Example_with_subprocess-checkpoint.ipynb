{
 "cells": [
  {
   "cell_type": "code",
   "execution_count": null,
   "id": "0a28da33",
   "metadata": {},
   "outputs": [],
   "source": [
    "import subprocess\n",
    "import pandas as pd\n",
    "import IPython.display as display"
   ]
  },
  {
   "cell_type": "code",
   "execution_count": null,
   "id": "55acf2fc",
   "metadata": {},
   "outputs": [],
   "source": [
    "vivado_pm = r\"D:\\Xilinx\\Vivado_Lab\\2023.1.1\\bin\\vivado_lab.bat\"\n",
    "tcl_script_0 = \"ibert_links-crosstalk_tests_0.tcl\"\n",
    "tcl_script_1 = \"ibert_links-crosstalk_tests_1.tcl\"\n",
    "tcl_script_2 = \"ibert_links-crosstalk_tests_2.tcl\"\n",
    "tcl_script_3 = \"ibert_links-crosstalk_tests_3.tcl\""
   ]
  },
  {
   "cell_type": "code",
   "execution_count": null,
   "id": "0ae51811",
   "metadata": {},
   "outputs": [],
   "source": [
    "def run_vivado_tcl(tcl_path):\n",
    "    #vivado_exe = r\"D:\\Xilinx\\Vivado_Lab\\2023.1.1\\bin\\vivado_lab.bat\"  # Caminho exato\n",
    "    vivado_exe = r\"C:\\Xilinx\\Vivado\\2022.2\\bin\\vivado.bat\"  # Caminho exato\n",
    "    cmd = [vivado_exe, \"-mode\", \"batch\", \"-source\", tcl_path, \"-nojournal\", \"-nolog\"]\n",
    "\n",
    "    print(f\"📤 Running: {tcl_path}\")\n",
    "    process = subprocess.Popen(\n",
    "        cmd,\n",
    "        stdout=subprocess.PIPE,\n",
    "        stderr=subprocess.STDOUT,\n",
    "        text=True,\n",
    "        bufsize=1\n",
    "    )\n",
    "\n",
    "    output_lines = []\n",
    "    for line in process.stdout:\n",
    "        print(line.strip())  # Mostra a saída ao vivo no Jupyter\n",
    "        output_lines.append(line.strip())\n",
    "\n",
    "    process.wait()\n",
    "    print(f\"\\n✅ Phase '{tcl_path}' finished!\")\n",
    "    return output_lines"
   ]
  },
  {
   "cell_type": "code",
   "execution_count": null,
   "id": "08746081",
   "metadata": {},
   "outputs": [],
   "source": [
    "def run_and_collect_links(tcl_path):\n",
    "    #vivado_exe = r\"D:\\Xilinx\\Vivado_Lab\\2023.1.1\\bin\\vivado_lab.bat\"\n",
    "    vivado_exe = r\"C:\\Xilinx\\Vivado\\2022.2\\bin\\vivado.bat\"  \n",
    "    cmd = [vivado_exe, \"-mode\", \"batch\", \"-source\", tcl_path, \"-nojournal\", \"-nolog\"]\n",
    "    \n",
    "    print(f\"📤 Running: {tcl_path}\")\n",
    "    process = subprocess.Popen(\n",
    "        cmd,\n",
    "        stdout=subprocess.PIPE,\n",
    "        stderr=subprocess.STDOUT,\n",
    "        text=True,\n",
    "        encoding='utf-8',\n",
    "        errors='ignore',\n",
    "        bufsize=1\n",
    "    )\n",
    "\n",
    "    results = []\n",
    "\n",
    "    for line in process.stdout:\n",
    "        print(line.strip())  # para acompanhamento ao vivo no Jupyter\n",
    "\n",
    "        # Detecta saída especial para Python\n",
    "        if line.startswith(\"PYTHON_OUT:\"):\n",
    "            line_clean = line.replace(\"PYTHON_OUT:\", \"\").strip()\n",
    "            pairs = line_clean.split(\";\")\n",
    "            data = {}\n",
    "            for p in pairs:\n",
    "                if \"=\" in p:\n",
    "                    k, v = p.split(\"=\", 1)\n",
    "                    data[k.strip()] = v.strip()\n",
    "            results.append(data)\n",
    "\n",
    "    process.wait()\n",
    "    return results"
   ]
  },
  {
   "cell_type": "code",
   "execution_count": null,
   "id": "df9b861d",
   "metadata": {},
   "outputs": [],
   "source": [
    "def highlight_ber(val):\n",
    "    if isinstance(val, float) and val > 1e-6:\n",
    "        return 'color: red; font-weight: bold'\n",
    "    return 'color: black'"
   ]
  },
  {
   "cell_type": "code",
   "execution_count": null,
   "id": "18b77cdf",
   "metadata": {},
   "outputs": [],
   "source": [
    "def abbreviate_errors(val):\n",
    "    if val >= 1_000_000:\n",
    "        return f\"{val // 1_000_000}M\"\n",
    "    elif val >= 1_000:\n",
    "        return f\"{val // 1_000}K\"\n",
    "    else:\n",
    "        return str(val)"
   ]
  },
  {
   "cell_type": "markdown",
   "id": "e28b632b",
   "metadata": {},
   "source": [
    "## Sequence of operation\n",
    "\n",
    "- run_ibert_phase_0.tcl  → Initial Settings and Logs \n",
    "- run_ibert_phase_1.tcl  → Run HW server\n",
    "- run_ibert_phase_2.tcl  → connection + read files\n",
    "- run_ibert_phase_3.tcl  → Programming and BER testing\n"
   ]
  },
  {
   "cell_type": "markdown",
   "id": "dec80aa0",
   "metadata": {},
   "source": [
    "### Phase1. Initial Settings"
   ]
  },
  {
   "cell_type": "code",
   "execution_count": null,
   "id": "53e53d8f",
   "metadata": {},
   "outputs": [],
   "source": [
    "out0 = run_vivado_tcl(tcl_script_0)"
   ]
  },
  {
   "cell_type": "code",
   "execution_count": null,
   "id": "240474e1",
   "metadata": {},
   "outputs": [],
   "source": [
    "out1 = run_vivado_tcl(tcl_script_1)"
   ]
  },
  {
   "cell_type": "code",
   "execution_count": null,
   "id": "a0d8baf6",
   "metadata": {},
   "outputs": [],
   "source": [
    "out1 = run_and_collect_links(tcl_script_2)"
   ]
  },
  {
   "cell_type": "code",
   "execution_count": null,
   "id": "a0983753",
   "metadata": {},
   "outputs": [],
   "source": [
    "df_resultados = pd.DataFrame(out1)\n",
    "df_resultados['ber'] = df_resultados['ber'].astype(float)\n",
    "df_resultados['errors'] = pd.to_numeric(df_resultados['errors'], errors='coerce').astype('int64')   # converte ou vira NaN"
   ]
  },
  {
   "cell_type": "code",
   "execution_count": null,
   "id": "0ca2eb9a",
   "metadata": {},
   "outputs": [],
   "source": [
    "styled_df = (\n",
    "    df_resultados.style\n",
    "    .applymap(highlight_ber, subset=['ber'])\n",
    "    .format({\n",
    "        'ber': '{:.2e}',  # notação científica\n",
    "        'errors': lambda x: f\"{x:,}\" if x < 10000 else f\"{x//1000}K\"\n",
    "    })\n",
    "\n",
    "    .set_properties(**{'text-align': 'center'})  # center cell text\n",
    "    .set_table_styles([\n",
    "        {'selector': 'th', 'props': [('text-align', 'center')]},\n",
    "        {'selector': 'td', 'props': [('text-align', 'center'), ('font-size', '8pt')]}\n",
    "    ])\n",
    ")"
   ]
  },
  {
   "cell_type": "code",
   "execution_count": null,
   "id": "448c1edf",
   "metadata": {},
   "outputs": [],
   "source": [
    "styled_df"
   ]
  },
  {
   "cell_type": "code",
   "execution_count": null,
   "id": "81230f1c",
   "metadata": {},
   "outputs": [],
   "source": [
    "out1 = run_and_collect_links(tcl_script_3)"
   ]
  },
  {
   "cell_type": "code",
   "execution_count": null,
   "id": "9cf48812",
   "metadata": {},
   "outputs": [],
   "source": []
  },
  {
   "cell_type": "code",
   "execution_count": null,
   "id": "8e86f922",
   "metadata": {},
   "outputs": [],
   "source": []
  },
  {
   "cell_type": "code",
   "execution_count": null,
   "id": "3be79a85",
   "metadata": {},
   "outputs": [],
   "source": []
  }
 ],
 "metadata": {
  "kernelspec": {
   "display_name": "Python 3 (ipykernel)",
   "language": "python",
   "name": "python3"
  },
  "language_info": {
   "codemirror_mode": {
    "name": "ipython",
    "version": 3
   },
   "file_extension": ".py",
   "mimetype": "text/x-python",
   "name": "python",
   "nbconvert_exporter": "python",
   "pygments_lexer": "ipython3",
   "version": "3.11.8"
  }
 },
 "nbformat": 4,
 "nbformat_minor": 5
}
